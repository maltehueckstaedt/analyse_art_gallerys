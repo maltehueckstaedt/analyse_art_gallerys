{
 "cells": [
  {
   "cell_type": "code",
   "execution_count": null,
   "metadata": {},
   "outputs": [],
   "source": [
    "from selenium import webdriver\n",
    "from selenium.webdriver.common.by import By\n",
    "from selenium.webdriver.chrome.service import Service\n",
    "from selenium.webdriver.chrome.options import Options\n",
    "from selenium.webdriver.support.ui import WebDriverWait\n",
    "from selenium.webdriver.support import expected_conditions as EC\n",
    "import time\n",
    "\n"
   ]
  },
  {
   "cell_type": "code",
   "execution_count": null,
   "metadata": {},
   "outputs": [],
   "source": [
    "# Setup\n",
    "options = Options()\n",
    "options.add_argument(\"--headless\")  # Entfernen, falls du den Browser sehen willst\n",
    "driver = webdriver.Chrome(options=options)\n",
    "driver.get(\"https://gagosian.com/exhibitions/archive/?as_list\")\n",
    "\n",
    "wait = WebDriverWait(driver, 10)\n",
    "\n",
    "while True:\n",
    "    driver.execute_script(\"window.scrollTo(0, document.body.scrollHeight);\")\n",
    "    time.sleep(1)  # Warten auf Button-Aktivierung\n",
    "\n",
    "    try:\n",
    "        load_more = wait.until(EC.element_to_be_clickable((By.CSS_SELECTOR, \"#exhibitions button\")))\n",
    "        load_more.click()\n",
    "        time.sleep(1)  # Warten auf Nachladen\n",
    "    except:\n",
    "        break  # Kein Button mehr auffindbar\n",
    "\n",
    "# Optional: Inhalte scrapen\n",
    "html = driver.page_source\n",
    "driver.quit()\n"
   ]
  }
 ],
 "metadata": {
  "language_info": {
   "name": "python"
  }
 },
 "nbformat": 4,
 "nbformat_minor": 2
}
