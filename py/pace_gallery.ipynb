{
 "cells": [
  {
   "cell_type": "markdown",
   "metadata": {},
   "source": [
    "# Scrapign Gagosian\n",
    "\n",
    "Wir scrapen im Folgendenden verschiedenen Informationen der Pace Gallery.\n",
    "\n",
    "## Sammle URLs\n",
    "\n",
    "Wir sammlen in einem ersten Schritt die URLs der Austellungen. Dies bestifft sowohl vergagenen, aktuelle wie kommende Austellungen."
   ]
  },
  {
   "cell_type": "code",
   "execution_count": null,
   "metadata": {},
   "outputs": [],
   "source": [
    "from selenium import webdriver\n",
    "from selenium.webdriver.common.by import By\n",
    "from selenium.webdriver.chrome.service import Service\n",
    "from selenium.webdriver.chrome.options import Options\n",
    "from selenium.webdriver.support.ui import WebDriverWait\n",
    "from selenium.webdriver.support import expected_conditions as EC\n",
    "import time\n",
    "import pandas as pd\n",
    "from webdriver_manager.chrome import ChromeDriverManager\n",
    "\n",
    "sites = [\n",
    "    \"https://www.pacegallery.com/exhibitions/status/archive/\",\n",
    "    \"https://www.pacegallery.com/exhibitions/\"\n",
    "]\n",
    "\n",
    "options = Options()\n",
    "options.add_argument(\"--start-maximized\")\n",
    "\n",
    "driver = webdriver.Chrome(service=Service(ChromeDriverManager().install()), options=options)\n",
    "wait = WebDriverWait(driver, 10)\n",
    "urls_comp = []\n",
    "\n",
    "for url in sites:\n",
    "    driver.get(url)\n",
    "    time.sleep(1)\n",
    "\n",
    "    if \"archive\" in url:\n",
    "        while True:\n",
    "            button = wait.until(EC.element_to_be_clickable((By.CSS_SELECTOR, \".pagination__button\")))\n",
    "            driver.execute_script(\"arguments[0].scrollIntoView({behavior: 'smooth', block: 'center'});\", button)\n",
    "            time.sleep(1)\n",
    "            try:\n",
    "                button = wait.until(EC.element_to_be_clickable((By.CSS_SELECTOR, \".pagination__button\")))\n",
    "                button.click()\n",
    "                time.sleep(1)\n",
    "            except:\n",
    "                break\n",
    "\n",
    "    elements = driver.find_elements(By.CSS_SELECTOR, \".archive-list__heading\")\n",
    "    urls = [el.get_attribute(\"href\") for el in elements if el.get_attribute(\"href\")]\n",
    "    urls_comp.extend(urls)\n",
    "\n",
    "urls_comp = list(set(urls_comp))"
   ]
  },
  {
   "cell_type": "markdown",
   "metadata": {},
   "source": [
    "Wir gehen im folgenden über die URLs und sammlen folgende Variablen: \n",
    "\n",
    "- `name`: Name des Künstlers\n",
    "- `titel`: Titel der Austellung\n",
    "- `date`: Datum der Austellung\n",
    "- `location`: Ort der Austellung\n",
    "- `about`: Text über die Austellung\n",
    "- `url`: URL der Austellung\n",
    "- `html`: HTML der Austellung"
   ]
  },
  {
   "cell_type": "code",
   "execution_count": null,
   "metadata": {},
   "outputs": [
    {
     "name": "stderr",
     "output_type": "stream",
     "text": [
      "scraping exhibitions:   7%|▋         | 101/1382 [08:34<1:43:02,  4.83s/it]"
     ]
    }
   ],
   "source": [
    "from tqdm import tqdm\n",
    "\n",
    "data = []\n",
    "\n",
    "for url in tqdm(urls_comp, desc=\"scraping exhibitions\"):\n",
    "    driver.get(url)\n",
    "    time.sleep(1.5)\n",
    "\n",
    "    artist = title = date = location = about_text = html = pd.NA\n",
    "\n",
    "    try:\n",
    "        artist = driver.find_element(By.CSS_SELECTOR, \"#page-header > div > h1\").text.strip()\n",
    "    except:\n",
    "        pass\n",
    "\n",
    "    try:\n",
    "        title = driver.find_element(By.CSS_SELECTOR, \"#page-header > div > h2\").text.strip()\n",
    "    except:\n",
    "        pass\n",
    "\n",
    "    try:\n",
    "        h3 = driver.find_element(By.CSS_SELECTOR, \"h3.type-m-md\")\n",
    "        h3_html = h3.get_attribute(\"innerHTML\")\n",
    "        parts = h3_html.split(\"<br>\")\n",
    "        date_parts = parts[0].replace('<span class=\"inline-block whitespace-nowrap\">', '').replace('</span>', '')\n",
    "        date = \" \".join(date_parts.split())\n",
    "        try:\n",
    "            location = h3.find_element(By.CSS_SELECTOR, \"a\").text.strip()\n",
    "        except:\n",
    "            location = h3.text.strip().split(\"\\n\")[-1]\n",
    "    except:\n",
    "        pass\n",
    "\n",
    "    try:\n",
    "        button = driver.find_element(By.CSS_SELECTOR,\n",
    "            \"#about > div > div > div:nth-child(1) > div > button\")\n",
    "        driver.execute_script(\"arguments[0].scrollIntoView({behavior: 'smooth'});\", button)\n",
    "        time.sleep(0.5)\n",
    "        button.click()\n",
    "        time.sleep(0.5)\n",
    "    except:\n",
    "        pass\n",
    "\n",
    "    try:\n",
    "        about_div = driver.find_element(By.CSS_SELECTOR,\n",
    "            \"#about > div > div > div:nth-child(1) > div > div\")\n",
    "        about_text = about_div.text.strip()\n",
    "    except:\n",
    "        pass\n",
    "\n",
    "    try:\n",
    "        html = driver.page_source\n",
    "    except:\n",
    "        pass\n",
    "\n",
    "    data.append({\n",
    "        \"name\": artist,\n",
    "        \"titel\": title,\n",
    "        \"date\": date,\n",
    "        \"location\": location,\n",
    "        \"about\": about_text,\n",
    "        \"url\": url,\n",
    "        \"html\": html\n",
    "    })\n",
    "\n",
    "df = pd.DataFrame(data)\n",
    "print(df)\n"
   ]
  },
  {
   "cell_type": "code",
   "execution_count": null,
   "metadata": {},
   "outputs": [],
   "source": [
    "df"
   ]
  },
  {
   "cell_type": "code",
   "execution_count": null,
   "metadata": {},
   "outputs": [],
   "source": [
    "#works > div.mx-auto.w-full.max-w-screen-xl-nopad.md\\:px-4 > div > div:nth-child(1) > div > div > div > div > figure:nth-child(1) > div > div > div > div > div.w-full.overflow-hidden.max-sm\\:aspect-h-1.max-sm\\:aspect-w-\\[--aspect-ratio\\].sm\\:flex.sm\\:h-full.sm\\:max-h-full.sm\\:w-auto.sm\\:max-w-full.sm\\:items-center.sm\\:justify-center > div"
   ]
  }
 ],
 "metadata": {
  "kernelspec": {
   "display_name": "scraping_art_gallerys",
   "language": "python",
   "name": "python3"
  },
  "language_info": {
   "codemirror_mode": {
    "name": "ipython",
    "version": 3
   },
   "file_extension": ".py",
   "mimetype": "text/x-python",
   "name": "python",
   "nbconvert_exporter": "python",
   "pygments_lexer": "ipython3",
   "version": "3.10.16"
  }
 },
 "nbformat": 4,
 "nbformat_minor": 2
}
